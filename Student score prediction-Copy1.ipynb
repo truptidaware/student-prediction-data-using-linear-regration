{
 "cells": [
  {
   "cell_type": "code",
   "execution_count": 2,
   "id": "ce27f7cd",
   "metadata": {},
   "outputs": [],
   "source": [
    "import pandas as pd\n",
    "import numpy as np\n",
    "import matplotlib.pyplot as plt\n",
    "import seaborn as sns\n",
    "\n",
    "from sklearn.model_selection import train_test_split\n",
    "from sklearn.linear_model import LinearRegression\n",
    "\n",
    "from sklearn import metrics"
   ]
  },
  {
   "cell_type": "code",
   "execution_count": 3,
   "id": "5f1d0067",
   "metadata": {},
   "outputs": [],
   "source": [
    "path = \"D:\\\\SIMPLI LEARN\\\\project end to end\\\\Student_data\\\\\"\n",
    "file = \"5_6114037541021682249.csv\"\n",
    "data = path+file\n",
    "df = pd.read_csv(data)"
   ]
  },
  {
   "cell_type": "code",
   "execution_count": 4,
   "id": "a54ef7d6",
   "metadata": {},
   "outputs": [
    {
     "data": {
      "text/html": [
       "<style type=\"text/css\">\n",
       "#T_7c04b_row0_col0, #T_7c04b_row16_col0 {\n",
       "  background-color: #daf0d4;\n",
       "  color: #000000;\n",
       "}\n",
       "#T_7c04b_row0_col1 {\n",
       "  background-color: #f0f9ec;\n",
       "  color: #000000;\n",
       "}\n",
       "#T_7c04b_row1_col0 {\n",
       "  background-color: #76c578;\n",
       "  color: #000000;\n",
       "}\n",
       "#T_7c04b_row1_col1 {\n",
       "  background-color: #9ed798;\n",
       "  color: #000000;\n",
       "}\n",
       "#T_7c04b_row2_col0 {\n",
       "  background-color: #c4e8bd;\n",
       "  color: #000000;\n",
       "}\n",
       "#T_7c04b_row2_col1 {\n",
       "  background-color: #e5f5e0;\n",
       "  color: #000000;\n",
       "}\n",
       "#T_7c04b_row3_col0, #T_7c04b_row6_col1 {\n",
       "  background-color: #006027;\n",
       "  color: #f1f1f1;\n",
       "}\n",
       "#T_7c04b_row3_col1 {\n",
       "  background-color: #248c46;\n",
       "  color: #f1f1f1;\n",
       "}\n",
       "#T_7c04b_row4_col0 {\n",
       "  background-color: #bae3b3;\n",
       "  color: #000000;\n",
       "}\n",
       "#T_7c04b_row4_col1, #T_7c04b_row16_col1, #T_7c04b_row20_col1 {\n",
       "  background-color: #dbf1d6;\n",
       "  color: #000000;\n",
       "}\n",
       "#T_7c04b_row5_col0 {\n",
       "  background-color: #f0f9ed;\n",
       "  color: #000000;\n",
       "}\n",
       "#T_7c04b_row5_col1 {\n",
       "  background-color: #f2faef;\n",
       "  color: #000000;\n",
       "}\n",
       "#T_7c04b_row6_col0, #T_7c04b_row15_col1 {\n",
       "  background-color: #00441b;\n",
       "  color: #f1f1f1;\n",
       "}\n",
       "#T_7c04b_row7_col0 {\n",
       "  background-color: #62bb6d;\n",
       "  color: #f1f1f1;\n",
       "}\n",
       "#T_7c04b_row7_col1 {\n",
       "  background-color: #5eb96b;\n",
       "  color: #f1f1f1;\n",
       "}\n",
       "#T_7c04b_row8_col0 {\n",
       "  background-color: #00682a;\n",
       "  color: #f1f1f1;\n",
       "}\n",
       "#T_7c04b_row8_col1 {\n",
       "  background-color: #0e7936;\n",
       "  color: #f1f1f1;\n",
       "}\n",
       "#T_7c04b_row9_col0, #T_7c04b_row20_col0 {\n",
       "  background-color: #d4eece;\n",
       "  color: #000000;\n",
       "}\n",
       "#T_7c04b_row9_col1 {\n",
       "  background-color: #e8f6e4;\n",
       "  color: #000000;\n",
       "}\n",
       "#T_7c04b_row10_col0 {\n",
       "  background-color: #117b38;\n",
       "  color: #f1f1f1;\n",
       "}\n",
       "#T_7c04b_row10_col1 {\n",
       "  background-color: #006d2c;\n",
       "  color: #f1f1f1;\n",
       "}\n",
       "#T_7c04b_row11_col0 {\n",
       "  background-color: #4eb264;\n",
       "  color: #f1f1f1;\n",
       "}\n",
       "#T_7c04b_row11_col1 {\n",
       "  background-color: #55b567;\n",
       "  color: #f1f1f1;\n",
       "}\n",
       "#T_7c04b_row12_col0 {\n",
       "  background-color: #91d28e;\n",
       "  color: #000000;\n",
       "}\n",
       "#T_7c04b_row12_col1 {\n",
       "  background-color: #b6e2af;\n",
       "  color: #000000;\n",
       "}\n",
       "#T_7c04b_row13_col0 {\n",
       "  background-color: #c1e6ba;\n",
       "  color: #000000;\n",
       "}\n",
       "#T_7c04b_row13_col1 {\n",
       "  background-color: #b1e0ab;\n",
       "  color: #000000;\n",
       "}\n",
       "#T_7c04b_row14_col0, #T_7c04b_row14_col1 {\n",
       "  background-color: #f7fcf5;\n",
       "  color: #000000;\n",
       "}\n",
       "#T_7c04b_row15_col0 {\n",
       "  background-color: #005020;\n",
       "  color: #f1f1f1;\n",
       "}\n",
       "#T_7c04b_row17_col0 {\n",
       "  background-color: #e9f7e5;\n",
       "  color: #000000;\n",
       "}\n",
       "#T_7c04b_row17_col1 {\n",
       "  background-color: #ebf7e7;\n",
       "  color: #000000;\n",
       "}\n",
       "#T_7c04b_row18_col0 {\n",
       "  background-color: #43ac5e;\n",
       "  color: #f1f1f1;\n",
       "}\n",
       "#T_7c04b_row18_col1 {\n",
       "  background-color: #3da65a;\n",
       "  color: #f1f1f1;\n",
       "}\n",
       "#T_7c04b_row19_col0 {\n",
       "  background-color: #1a843f;\n",
       "  color: #f1f1f1;\n",
       "}\n",
       "#T_7c04b_row19_col1 {\n",
       "  background-color: #37a055;\n",
       "  color: #f1f1f1;\n",
       "}\n",
       "#T_7c04b_row21_col0 {\n",
       "  background-color: #84cc83;\n",
       "  color: #000000;\n",
       "}\n",
       "#T_7c04b_row21_col1 {\n",
       "  background-color: #7dc87e;\n",
       "  color: #000000;\n",
       "}\n",
       "#T_7c04b_row22_col0 {\n",
       "  background-color: #aedea7;\n",
       "  color: #000000;\n",
       "}\n",
       "#T_7c04b_row22_col1 {\n",
       "  background-color: #cbebc5;\n",
       "  color: #000000;\n",
       "}\n",
       "#T_7c04b_row23_col0 {\n",
       "  background-color: #2b934b;\n",
       "  color: #f1f1f1;\n",
       "}\n",
       "#T_7c04b_row23_col1 {\n",
       "  background-color: #218944;\n",
       "  color: #f1f1f1;\n",
       "}\n",
       "#T_7c04b_row24_col0 {\n",
       "  background-color: #0d7836;\n",
       "  color: #f1f1f1;\n",
       "}\n",
       "#T_7c04b_row24_col1 {\n",
       "  background-color: #00692a;\n",
       "  color: #f1f1f1;\n",
       "}\n",
       "</style>\n",
       "<table id=\"T_7c04b_\">\n",
       "  <thead>\n",
       "    <tr>\n",
       "      <th class=\"blank level0\" >&nbsp;</th>\n",
       "      <th class=\"col_heading level0 col0\" >Hours</th>\n",
       "      <th class=\"col_heading level0 col1\" >Scores</th>\n",
       "    </tr>\n",
       "  </thead>\n",
       "  <tbody>\n",
       "    <tr>\n",
       "      <th id=\"T_7c04b_level0_row0\" class=\"row_heading level0 row0\" >0</th>\n",
       "      <td id=\"T_7c04b_row0_col0\" class=\"data row0 col0\" >2.500000</td>\n",
       "      <td id=\"T_7c04b_row0_col1\" class=\"data row0 col1\" >21</td>\n",
       "    </tr>\n",
       "    <tr>\n",
       "      <th id=\"T_7c04b_level0_row1\" class=\"row_heading level0 row1\" >1</th>\n",
       "      <td id=\"T_7c04b_row1_col0\" class=\"data row1 col0\" >5.100000</td>\n",
       "      <td id=\"T_7c04b_row1_col1\" class=\"data row1 col1\" >47</td>\n",
       "    </tr>\n",
       "    <tr>\n",
       "      <th id=\"T_7c04b_level0_row2\" class=\"row_heading level0 row2\" >2</th>\n",
       "      <td id=\"T_7c04b_row2_col0\" class=\"data row2 col0\" >3.200000</td>\n",
       "      <td id=\"T_7c04b_row2_col1\" class=\"data row2 col1\" >27</td>\n",
       "    </tr>\n",
       "    <tr>\n",
       "      <th id=\"T_7c04b_level0_row3\" class=\"row_heading level0 row3\" >3</th>\n",
       "      <td id=\"T_7c04b_row3_col0\" class=\"data row3 col0\" >8.500000</td>\n",
       "      <td id=\"T_7c04b_row3_col1\" class=\"data row3 col1\" >75</td>\n",
       "    </tr>\n",
       "    <tr>\n",
       "      <th id=\"T_7c04b_level0_row4\" class=\"row_heading level0 row4\" >4</th>\n",
       "      <td id=\"T_7c04b_row4_col0\" class=\"data row4 col0\" >3.500000</td>\n",
       "      <td id=\"T_7c04b_row4_col1\" class=\"data row4 col1\" >30</td>\n",
       "    </tr>\n",
       "    <tr>\n",
       "      <th id=\"T_7c04b_level0_row5\" class=\"row_heading level0 row5\" >5</th>\n",
       "      <td id=\"T_7c04b_row5_col0\" class=\"data row5 col0\" >1.500000</td>\n",
       "      <td id=\"T_7c04b_row5_col1\" class=\"data row5 col1\" >20</td>\n",
       "    </tr>\n",
       "    <tr>\n",
       "      <th id=\"T_7c04b_level0_row6\" class=\"row_heading level0 row6\" >6</th>\n",
       "      <td id=\"T_7c04b_row6_col0\" class=\"data row6 col0\" >9.200000</td>\n",
       "      <td id=\"T_7c04b_row6_col1\" class=\"data row6 col1\" >88</td>\n",
       "    </tr>\n",
       "    <tr>\n",
       "      <th id=\"T_7c04b_level0_row7\" class=\"row_heading level0 row7\" >7</th>\n",
       "      <td id=\"T_7c04b_row7_col0\" class=\"data row7 col0\" >5.500000</td>\n",
       "      <td id=\"T_7c04b_row7_col1\" class=\"data row7 col1\" >60</td>\n",
       "    </tr>\n",
       "    <tr>\n",
       "      <th id=\"T_7c04b_level0_row8\" class=\"row_heading level0 row8\" >8</th>\n",
       "      <td id=\"T_7c04b_row8_col0\" class=\"data row8 col0\" >8.300000</td>\n",
       "      <td id=\"T_7c04b_row8_col1\" class=\"data row8 col1\" >81</td>\n",
       "    </tr>\n",
       "    <tr>\n",
       "      <th id=\"T_7c04b_level0_row9\" class=\"row_heading level0 row9\" >9</th>\n",
       "      <td id=\"T_7c04b_row9_col0\" class=\"data row9 col0\" >2.700000</td>\n",
       "      <td id=\"T_7c04b_row9_col1\" class=\"data row9 col1\" >25</td>\n",
       "    </tr>\n",
       "    <tr>\n",
       "      <th id=\"T_7c04b_level0_row10\" class=\"row_heading level0 row10\" >10</th>\n",
       "      <td id=\"T_7c04b_row10_col0\" class=\"data row10 col0\" >7.700000</td>\n",
       "      <td id=\"T_7c04b_row10_col1\" class=\"data row10 col1\" >85</td>\n",
       "    </tr>\n",
       "    <tr>\n",
       "      <th id=\"T_7c04b_level0_row11\" class=\"row_heading level0 row11\" >11</th>\n",
       "      <td id=\"T_7c04b_row11_col0\" class=\"data row11 col0\" >5.900000</td>\n",
       "      <td id=\"T_7c04b_row11_col1\" class=\"data row11 col1\" >62</td>\n",
       "    </tr>\n",
       "    <tr>\n",
       "      <th id=\"T_7c04b_level0_row12\" class=\"row_heading level0 row12\" >12</th>\n",
       "      <td id=\"T_7c04b_row12_col0\" class=\"data row12 col0\" >4.500000</td>\n",
       "      <td id=\"T_7c04b_row12_col1\" class=\"data row12 col1\" >41</td>\n",
       "    </tr>\n",
       "    <tr>\n",
       "      <th id=\"T_7c04b_level0_row13\" class=\"row_heading level0 row13\" >13</th>\n",
       "      <td id=\"T_7c04b_row13_col0\" class=\"data row13 col0\" >3.300000</td>\n",
       "      <td id=\"T_7c04b_row13_col1\" class=\"data row13 col1\" >42</td>\n",
       "    </tr>\n",
       "    <tr>\n",
       "      <th id=\"T_7c04b_level0_row14\" class=\"row_heading level0 row14\" >14</th>\n",
       "      <td id=\"T_7c04b_row14_col0\" class=\"data row14 col0\" >1.100000</td>\n",
       "      <td id=\"T_7c04b_row14_col1\" class=\"data row14 col1\" >17</td>\n",
       "    </tr>\n",
       "    <tr>\n",
       "      <th id=\"T_7c04b_level0_row15\" class=\"row_heading level0 row15\" >15</th>\n",
       "      <td id=\"T_7c04b_row15_col0\" class=\"data row15 col0\" >8.900000</td>\n",
       "      <td id=\"T_7c04b_row15_col1\" class=\"data row15 col1\" >95</td>\n",
       "    </tr>\n",
       "    <tr>\n",
       "      <th id=\"T_7c04b_level0_row16\" class=\"row_heading level0 row16\" >16</th>\n",
       "      <td id=\"T_7c04b_row16_col0\" class=\"data row16 col0\" >2.500000</td>\n",
       "      <td id=\"T_7c04b_row16_col1\" class=\"data row16 col1\" >30</td>\n",
       "    </tr>\n",
       "    <tr>\n",
       "      <th id=\"T_7c04b_level0_row17\" class=\"row_heading level0 row17\" >17</th>\n",
       "      <td id=\"T_7c04b_row17_col0\" class=\"data row17 col0\" >1.900000</td>\n",
       "      <td id=\"T_7c04b_row17_col1\" class=\"data row17 col1\" >24</td>\n",
       "    </tr>\n",
       "    <tr>\n",
       "      <th id=\"T_7c04b_level0_row18\" class=\"row_heading level0 row18\" >18</th>\n",
       "      <td id=\"T_7c04b_row18_col0\" class=\"data row18 col0\" >6.100000</td>\n",
       "      <td id=\"T_7c04b_row18_col1\" class=\"data row18 col1\" >67</td>\n",
       "    </tr>\n",
       "    <tr>\n",
       "      <th id=\"T_7c04b_level0_row19\" class=\"row_heading level0 row19\" >19</th>\n",
       "      <td id=\"T_7c04b_row19_col0\" class=\"data row19 col0\" >7.400000</td>\n",
       "      <td id=\"T_7c04b_row19_col1\" class=\"data row19 col1\" >69</td>\n",
       "    </tr>\n",
       "    <tr>\n",
       "      <th id=\"T_7c04b_level0_row20\" class=\"row_heading level0 row20\" >20</th>\n",
       "      <td id=\"T_7c04b_row20_col0\" class=\"data row20 col0\" >2.700000</td>\n",
       "      <td id=\"T_7c04b_row20_col1\" class=\"data row20 col1\" >30</td>\n",
       "    </tr>\n",
       "    <tr>\n",
       "      <th id=\"T_7c04b_level0_row21\" class=\"row_heading level0 row21\" >21</th>\n",
       "      <td id=\"T_7c04b_row21_col0\" class=\"data row21 col0\" >4.800000</td>\n",
       "      <td id=\"T_7c04b_row21_col1\" class=\"data row21 col1\" >54</td>\n",
       "    </tr>\n",
       "    <tr>\n",
       "      <th id=\"T_7c04b_level0_row22\" class=\"row_heading level0 row22\" >22</th>\n",
       "      <td id=\"T_7c04b_row22_col0\" class=\"data row22 col0\" >3.800000</td>\n",
       "      <td id=\"T_7c04b_row22_col1\" class=\"data row22 col1\" >35</td>\n",
       "    </tr>\n",
       "    <tr>\n",
       "      <th id=\"T_7c04b_level0_row23\" class=\"row_heading level0 row23\" >23</th>\n",
       "      <td id=\"T_7c04b_row23_col0\" class=\"data row23 col0\" >6.900000</td>\n",
       "      <td id=\"T_7c04b_row23_col1\" class=\"data row23 col1\" >76</td>\n",
       "    </tr>\n",
       "    <tr>\n",
       "      <th id=\"T_7c04b_level0_row24\" class=\"row_heading level0 row24\" >24</th>\n",
       "      <td id=\"T_7c04b_row24_col0\" class=\"data row24 col0\" >7.800000</td>\n",
       "      <td id=\"T_7c04b_row24_col1\" class=\"data row24 col1\" >86</td>\n",
       "    </tr>\n",
       "  </tbody>\n",
       "</table>\n"
      ],
      "text/plain": [
       "<pandas.io.formats.style.Styler at 0x189e2d84ec8>"
      ]
     },
     "execution_count": 4,
     "metadata": {},
     "output_type": "execute_result"
    }
   ],
   "source": [
    "df.style.background_gradient(cmap='Greens')"
   ]
  },
  {
   "cell_type": "code",
   "execution_count": 5,
   "id": "8d452c96",
   "metadata": {},
   "outputs": [
    {
     "data": {
      "text/html": [
       "<style type=\"text/css\">\n",
       "#T_eeec9_row0_col0, #T_eeec9_row7_col1 {\n",
       "  background-color: #00441b;\n",
       "  color: #f1f1f1;\n",
       "}\n",
       "#T_eeec9_row0_col1 {\n",
       "  background-color: #e8f6e4;\n",
       "  color: #000000;\n",
       "}\n",
       "#T_eeec9_row1_col0 {\n",
       "  background-color: #dcf2d7;\n",
       "  color: #000000;\n",
       "}\n",
       "#T_eeec9_row1_col1 {\n",
       "  background-color: #88ce87;\n",
       "  color: #000000;\n",
       "}\n",
       "#T_eeec9_row2_col0 {\n",
       "  background-color: #eff9eb;\n",
       "  color: #000000;\n",
       "}\n",
       "#T_eeec9_row2_col1 {\n",
       "  background-color: #e8f6e3;\n",
       "  color: #000000;\n",
       "}\n",
       "#T_eeec9_row3_col0, #T_eeec9_row3_col1 {\n",
       "  background-color: #f7fcf5;\n",
       "  color: #000000;\n",
       "}\n",
       "#T_eeec9_row4_col0 {\n",
       "  background-color: #edf8ea;\n",
       "  color: #000000;\n",
       "}\n",
       "#T_eeec9_row4_col1 {\n",
       "  background-color: #dbf1d6;\n",
       "  color: #000000;\n",
       "}\n",
       "#T_eeec9_row5_col0 {\n",
       "  background-color: #def2d9;\n",
       "  color: #000000;\n",
       "}\n",
       "#T_eeec9_row5_col1 {\n",
       "  background-color: #9ed798;\n",
       "  color: #000000;\n",
       "}\n",
       "#T_eeec9_row6_col0 {\n",
       "  background-color: #c3e7bc;\n",
       "  color: #000000;\n",
       "}\n",
       "#T_eeec9_row6_col1 {\n",
       "  background-color: #248c46;\n",
       "  color: #f1f1f1;\n",
       "}\n",
       "#T_eeec9_row7_col0 {\n",
       "  background-color: #acdea6;\n",
       "  color: #000000;\n",
       "}\n",
       "</style>\n",
       "<table id=\"T_eeec9_\">\n",
       "  <thead>\n",
       "    <tr>\n",
       "      <th class=\"blank level0\" >&nbsp;</th>\n",
       "      <th class=\"col_heading level0 col0\" >Hours</th>\n",
       "      <th class=\"col_heading level0 col1\" >Scores</th>\n",
       "    </tr>\n",
       "  </thead>\n",
       "  <tbody>\n",
       "    <tr>\n",
       "      <th id=\"T_eeec9_level0_row0\" class=\"row_heading level0 row0\" >count</th>\n",
       "      <td id=\"T_eeec9_row0_col0\" class=\"data row0 col0\" >25.000000</td>\n",
       "      <td id=\"T_eeec9_row0_col1\" class=\"data row0 col1\" >25.000000</td>\n",
       "    </tr>\n",
       "    <tr>\n",
       "      <th id=\"T_eeec9_level0_row1\" class=\"row_heading level0 row1\" >mean</th>\n",
       "      <td id=\"T_eeec9_row1_col0\" class=\"data row1 col0\" >5.012000</td>\n",
       "      <td id=\"T_eeec9_row1_col1\" class=\"data row1 col1\" >51.480000</td>\n",
       "    </tr>\n",
       "    <tr>\n",
       "      <th id=\"T_eeec9_level0_row2\" class=\"row_heading level0 row2\" >std</th>\n",
       "      <td id=\"T_eeec9_row2_col0\" class=\"data row2 col0\" >2.525094</td>\n",
       "      <td id=\"T_eeec9_row2_col1\" class=\"data row2 col1\" >25.286887</td>\n",
       "    </tr>\n",
       "    <tr>\n",
       "      <th id=\"T_eeec9_level0_row3\" class=\"row_heading level0 row3\" >min</th>\n",
       "      <td id=\"T_eeec9_row3_col0\" class=\"data row3 col0\" >1.100000</td>\n",
       "      <td id=\"T_eeec9_row3_col1\" class=\"data row3 col1\" >17.000000</td>\n",
       "    </tr>\n",
       "    <tr>\n",
       "      <th id=\"T_eeec9_level0_row4\" class=\"row_heading level0 row4\" >25%</th>\n",
       "      <td id=\"T_eeec9_row4_col0\" class=\"data row4 col0\" >2.700000</td>\n",
       "      <td id=\"T_eeec9_row4_col1\" class=\"data row4 col1\" >30.000000</td>\n",
       "    </tr>\n",
       "    <tr>\n",
       "      <th id=\"T_eeec9_level0_row5\" class=\"row_heading level0 row5\" >50%</th>\n",
       "      <td id=\"T_eeec9_row5_col0\" class=\"data row5 col0\" >4.800000</td>\n",
       "      <td id=\"T_eeec9_row5_col1\" class=\"data row5 col1\" >47.000000</td>\n",
       "    </tr>\n",
       "    <tr>\n",
       "      <th id=\"T_eeec9_level0_row6\" class=\"row_heading level0 row6\" >75%</th>\n",
       "      <td id=\"T_eeec9_row6_col0\" class=\"data row6 col0\" >7.400000</td>\n",
       "      <td id=\"T_eeec9_row6_col1\" class=\"data row6 col1\" >75.000000</td>\n",
       "    </tr>\n",
       "    <tr>\n",
       "      <th id=\"T_eeec9_level0_row7\" class=\"row_heading level0 row7\" >max</th>\n",
       "      <td id=\"T_eeec9_row7_col0\" class=\"data row7 col0\" >9.200000</td>\n",
       "      <td id=\"T_eeec9_row7_col1\" class=\"data row7 col1\" >95.000000</td>\n",
       "    </tr>\n",
       "  </tbody>\n",
       "</table>\n"
      ],
      "text/plain": [
       "<pandas.io.formats.style.Styler at 0x189e018e448>"
      ]
     },
     "execution_count": 5,
     "metadata": {},
     "output_type": "execute_result"
    }
   ],
   "source": [
    "df.describe(include='all').style.background_gradient(cmap='Greens')"
   ]
  },
  {
   "cell_type": "code",
   "execution_count": 6,
   "id": "49c3cbf8",
   "metadata": {},
   "outputs": [
    {
     "data": {
      "text/html": [
       "<style type=\"text/css\">\n",
       "#T_366da_row0_col0, #T_366da_row7_col1 {\n",
       "  background-color: #00441b;\n",
       "  color: #f1f1f1;\n",
       "}\n",
       "#T_366da_row0_col1 {\n",
       "  background-color: #e8f6e4;\n",
       "  color: #000000;\n",
       "}\n",
       "#T_366da_row1_col0 {\n",
       "  background-color: #dcf2d7;\n",
       "  color: #000000;\n",
       "}\n",
       "#T_366da_row1_col1 {\n",
       "  background-color: #88ce87;\n",
       "  color: #000000;\n",
       "}\n",
       "#T_366da_row2_col0 {\n",
       "  background-color: #eff9eb;\n",
       "  color: #000000;\n",
       "}\n",
       "#T_366da_row2_col1 {\n",
       "  background-color: #e8f6e3;\n",
       "  color: #000000;\n",
       "}\n",
       "#T_366da_row3_col0, #T_366da_row3_col1 {\n",
       "  background-color: #f7fcf5;\n",
       "  color: #000000;\n",
       "}\n",
       "#T_366da_row4_col0 {\n",
       "  background-color: #edf8ea;\n",
       "  color: #000000;\n",
       "}\n",
       "#T_366da_row4_col1 {\n",
       "  background-color: #dbf1d6;\n",
       "  color: #000000;\n",
       "}\n",
       "#T_366da_row5_col0 {\n",
       "  background-color: #def2d9;\n",
       "  color: #000000;\n",
       "}\n",
       "#T_366da_row5_col1 {\n",
       "  background-color: #9ed798;\n",
       "  color: #000000;\n",
       "}\n",
       "#T_366da_row6_col0 {\n",
       "  background-color: #c3e7bc;\n",
       "  color: #000000;\n",
       "}\n",
       "#T_366da_row6_col1 {\n",
       "  background-color: #248c46;\n",
       "  color: #f1f1f1;\n",
       "}\n",
       "#T_366da_row7_col0 {\n",
       "  background-color: #acdea6;\n",
       "  color: #000000;\n",
       "}\n",
       "</style>\n",
       "<table id=\"T_366da_\">\n",
       "  <thead>\n",
       "    <tr>\n",
       "      <th class=\"blank level0\" >&nbsp;</th>\n",
       "      <th class=\"col_heading level0 col0\" >Hours</th>\n",
       "      <th class=\"col_heading level0 col1\" >Scores</th>\n",
       "    </tr>\n",
       "  </thead>\n",
       "  <tbody>\n",
       "    <tr>\n",
       "      <th id=\"T_366da_level0_row0\" class=\"row_heading level0 row0\" >count</th>\n",
       "      <td id=\"T_366da_row0_col0\" class=\"data row0 col0\" >25.000000</td>\n",
       "      <td id=\"T_366da_row0_col1\" class=\"data row0 col1\" >25.000000</td>\n",
       "    </tr>\n",
       "    <tr>\n",
       "      <th id=\"T_366da_level0_row1\" class=\"row_heading level0 row1\" >mean</th>\n",
       "      <td id=\"T_366da_row1_col0\" class=\"data row1 col0\" >5.012000</td>\n",
       "      <td id=\"T_366da_row1_col1\" class=\"data row1 col1\" >51.480000</td>\n",
       "    </tr>\n",
       "    <tr>\n",
       "      <th id=\"T_366da_level0_row2\" class=\"row_heading level0 row2\" >std</th>\n",
       "      <td id=\"T_366da_row2_col0\" class=\"data row2 col0\" >2.525094</td>\n",
       "      <td id=\"T_366da_row2_col1\" class=\"data row2 col1\" >25.286887</td>\n",
       "    </tr>\n",
       "    <tr>\n",
       "      <th id=\"T_366da_level0_row3\" class=\"row_heading level0 row3\" >min</th>\n",
       "      <td id=\"T_366da_row3_col0\" class=\"data row3 col0\" >1.100000</td>\n",
       "      <td id=\"T_366da_row3_col1\" class=\"data row3 col1\" >17.000000</td>\n",
       "    </tr>\n",
       "    <tr>\n",
       "      <th id=\"T_366da_level0_row4\" class=\"row_heading level0 row4\" >25%</th>\n",
       "      <td id=\"T_366da_row4_col0\" class=\"data row4 col0\" >2.700000</td>\n",
       "      <td id=\"T_366da_row4_col1\" class=\"data row4 col1\" >30.000000</td>\n",
       "    </tr>\n",
       "    <tr>\n",
       "      <th id=\"T_366da_level0_row5\" class=\"row_heading level0 row5\" >50%</th>\n",
       "      <td id=\"T_366da_row5_col0\" class=\"data row5 col0\" >4.800000</td>\n",
       "      <td id=\"T_366da_row5_col1\" class=\"data row5 col1\" >47.000000</td>\n",
       "    </tr>\n",
       "    <tr>\n",
       "      <th id=\"T_366da_level0_row6\" class=\"row_heading level0 row6\" >75%</th>\n",
       "      <td id=\"T_366da_row6_col0\" class=\"data row6 col0\" >7.400000</td>\n",
       "      <td id=\"T_366da_row6_col1\" class=\"data row6 col1\" >75.000000</td>\n",
       "    </tr>\n",
       "    <tr>\n",
       "      <th id=\"T_366da_level0_row7\" class=\"row_heading level0 row7\" >max</th>\n",
       "      <td id=\"T_366da_row7_col0\" class=\"data row7 col0\" >9.200000</td>\n",
       "      <td id=\"T_366da_row7_col1\" class=\"data row7 col1\" >95.000000</td>\n",
       "    </tr>\n",
       "  </tbody>\n",
       "</table>\n"
      ],
      "text/plain": [
       "<pandas.io.formats.style.Styler at 0x189e0136ac8>"
      ]
     },
     "execution_count": 6,
     "metadata": {},
     "output_type": "execute_result"
    }
   ],
   "source": [
    "df.describe(include='all').style.background_gradient(cmap='Greens')"
   ]
  },
  {
   "cell_type": "code",
   "execution_count": 7,
   "id": "e8246bf8",
   "metadata": {},
   "outputs": [
    {
     "data": {
      "text/plain": [
       "0"
      ]
     },
     "execution_count": 7,
     "metadata": {},
     "output_type": "execute_result"
    }
   ],
   "source": [
    "df.isna().sum().sum()"
   ]
  },
  {
   "cell_type": "code",
   "execution_count": 8,
   "id": "f0ae2f97",
   "metadata": {},
   "outputs": [
    {
     "name": "stdout",
     "output_type": "stream",
     "text": [
      "null values in percentageHours     0.0\n",
      "Scores    0.0\n",
      "dtype: float64%\n"
     ]
    }
   ],
   "source": [
    "print(f\"null values in percentage{df.isna().sum()/len(df)*100}%\")"
   ]
  },
  {
   "cell_type": "code",
   "execution_count": 9,
   "id": "f0bfa70e",
   "metadata": {},
   "outputs": [
    {
     "data": {
      "text/plain": [
       "<AxesSubplot:>"
      ]
     },
     "execution_count": 9,
     "metadata": {},
     "output_type": "execute_result"
    },
    {
     "data": {
      "image/png": "[encoded data removed]",
      "text/plain": [
       "<Figure size 500x500 with 1 Axes>"
      ]
     },
     "metadata": {},
     "output_type": "display_data"
    }
   ],
   "source": [
    "plt.figure(figsize=(5,5))\n",
    "sns.boxplot(df['Hours'])"
   ]
  },
  {
   "cell_type": "code",
   "execution_count": 10,
   "id": "7d0d3585",
   "metadata": {},
   "outputs": [
    {
     "data": {
      "text/plain": [
       "<AxesSubplot:>"
      ]
     },
     "execution_count": 10,
     "metadata": {},
     "output_type": "execute_result"
    },
    {
     "data": {
      "image/png": "[encoded data removed]",
      "text/plain": [
       "<Figure size 500x500 with 1 Axes>"
      ]
     },
     "metadata": {},
     "output_type": "display_data"
    }
   ],
   "source": [
    "plt.figure(figsize=(5,5))\n",
    "sns.boxplot(df['Scores'])"
   ]
  },
  {
   "cell_type": "code",
   "execution_count": 11,
   "id": "478d1c11",
   "metadata": {},
   "outputs": [
    {
     "data": {
      "image/png": "[encoded data removed]",
      "text/plain": [
       "<Figure size 500x500 with 2 Axes>"
      ]
     },
     "metadata": {},
     "output_type": "display_data"
    }
   ],
   "source": [
    "corr_mat = df.corr()['Scores']\n",
    "top_feature = corr_mat.index\n",
    "plt.figure(figsize=(5,5))\n",
    "fig_corr_mat = sns.heatmap(df[top_feature].corr(), cmap='crest', annot=True)\n",
    "fig_corr_mat.xaxis.tick_top()\n",
    "plt.title(\"HEAT MAP\", fontsize=15)\n",
    "plt.tight_layout()\n",
    "plt.show()"
   ]
  },
  {
   "cell_type": "code",
   "execution_count": 12,
   "id": "cf7a37f0",
   "metadata": {},
   "outputs": [
    {
     "data": {
      "image/png": "[encoded data removed]",
      "text/plain": [
       "<Figure size 567.75x500 with 1 Axes>"
      ]
     },
     "metadata": {},
     "output_type": "display_data"
    }
   ],
   "source": [
    "sns.relplot(x='Hours', y='Scores', data=df, kind='scatter', size='Scores', color='blue');\n",
    "sns.set_style('darkgrid')"
   ]
  },
  {
   "cell_type": "code",
   "execution_count": 13,
   "id": "eeee8326",
   "metadata": {},
   "outputs": [],
   "source": [
    "X = df.Hours\n",
    "y = df.Scores"
   ]
  },
  {
   "cell_type": "code",
   "execution_count": 14,
   "id": "d97c5a42",
   "metadata": {},
   "outputs": [
    {
     "data": {
      "text/plain": [
       "(25,)"
      ]
     },
     "execution_count": 14,
     "metadata": {},
     "output_type": "execute_result"
    }
   ],
   "source": [
    "X.shape"
   ]
  },
  {
   "cell_type": "code",
   "execution_count": 15,
   "id": "7c42ab6c",
   "metadata": {},
   "outputs": [
    {
     "data": {
      "text/plain": [
       "(25,)"
      ]
     },
     "execution_count": 15,
     "metadata": {},
     "output_type": "execute_result"
    }
   ],
   "source": [
    "y.shape"
   ]
  },
  {
   "cell_type": "code",
   "execution_count": 16,
   "id": "fd4ab4a7",
   "metadata": {},
   "outputs": [],
   "source": [
    "X_matrix = X.values.reshape(-1,1)\n",
    "y_matrix = y.values.reshape(-1,1)"
   ]
  },
  {
   "cell_type": "code",
   "execution_count": null,
   "id": "8996a79c",
   "metadata": {},
   "outputs": [],
   "source": []
  },
  {
   "cell_type": "code",
   "execution_count": 17,
   "id": "0311838e",
   "metadata": {},
   "outputs": [],
   "source": [
    "X_train,X_test,y_train,y_test = train_test_split(X_matrix,y_matrix,test_size=0.2, random_state=42)"
   ]
  },
  {
   "cell_type": "code",
   "execution_count": 18,
   "id": "06ec047b",
   "metadata": {},
   "outputs": [
    {
     "name": "stdout",
     "output_type": "stream",
     "text": [
      "(20, 1) (5, 1) (20, 1) (5, 1)\n"
     ]
    }
   ],
   "source": [
    "print(X_train.shape, X_test.shape, y_train.shape, y_test.shape)"
   ]
  },
  {
   "cell_type": "code",
   "execution_count": 19,
   "id": "ebdb3eb0",
   "metadata": {},
   "outputs": [],
   "source": [
    "lr = LinearRegression()"
   ]
  },
  {
   "cell_type": "code",
   "execution_count": 20,
   "id": "dae773b7",
   "metadata": {},
   "outputs": [
    {
     "data": {
      "text/plain": [
       "LinearRegression()"
      ]
     },
     "execution_count": 20,
     "metadata": {},
     "output_type": "execute_result"
    }
   ],
   "source": [
    "lr.fit(X_train, y_train)"
   ]
  },
  {
   "cell_type": "code",
   "execution_count": 21,
   "id": "438b20dc",
   "metadata": {},
   "outputs": [
    {
     "name": "stdout",
     "output_type": "stream",
     "text": [
      "score = 94.91209376364415 %\n"
     ]
    }
   ],
   "source": [
    "print(f\"score = {lr.score(X_train, y_train)*100} %\")"
   ]
  },
  {
   "cell_type": "code",
   "execution_count": 22,
   "id": "8c114032",
   "metadata": {},
   "outputs": [
    {
     "name": "stdout",
     "output_type": "stream",
     "text": [
      "prediction score=[[83.18814104]\n",
      " [27.03208774]\n",
      " [27.03208774]\n",
      " [69.63323162]\n",
      " [59.95115347]]\n"
     ]
    }
   ],
   "source": [
    "y_test_ht = lr.predict(X_test)\n",
    "print(f\"prediction score={y_test_ht}\")"
   ]
  },
  {
   "cell_type": "code",
   "execution_count": 23,
   "id": "df027224",
   "metadata": {},
   "outputs": [
    {
     "name": "stdout",
     "output_type": "stream",
     "text": [
      "mean absolute error = 3.9207511902099244\n"
     ]
    }
   ],
   "source": [
    "m_a_error = metrics.mean_absolute_error(y_test, y_test_ht)\n",
    "print(f\"mean absolute error = {m_a_error}\")"
   ]
  },
  {
   "cell_type": "code",
   "execution_count": 24,
   "id": "e0957060",
   "metadata": {},
   "outputs": [],
   "source": [
    "# predition for 9.30 hours"
   ]
  },
  {
   "cell_type": "code",
   "execution_count": 25,
   "id": "b94adcf1",
   "metadata": {},
   "outputs": [
    {
     "name": "stdout",
     "output_type": "stream",
     "text": [
      "prediction score for 9.30 hours =[[92.87021919]] scores\n"
     ]
    }
   ],
   "source": [
    "pre_sore = lr.predict([[9.30]])\n",
    "print(f\"prediction score for 9.30 hours ={pre_sore} scores\")"
   ]
  },
  {
   "cell_type": "code",
   "execution_count": null,
   "id": "025d3b5b",
   "metadata": {},
   "outputs": [],
   "source": []
  },
  {
   "cell_type": "code",
   "execution_count": null,
   "id": "b2a2ce92",
   "metadata": {},
   "outputs": [],
   "source": []
  },
  {
   "cell_type": "code",
   "execution_count": null,
   "id": "b7e89633",
   "metadata": {},
   "outputs": [],
   "source": []
  },
  {
   "cell_type": "code",
   "execution_count": null,
   "id": "a22e6395",
   "metadata": {},
   "outputs": [],
   "source": []
  },
  {
   "cell_type": "code",
   "execution_count": null,
   "id": "4d7b5534",
   "metadata": {},
   "outputs": [],
   "source": []
  },
  {
   "cell_type": "code",
   "execution_count": null,
   "id": "362d0e45",
   "metadata": {},
   "outputs": [],
   "source": []
  },
  {
   "cell_type": "code",
   "execution_count": null,
   "id": "568b6fac",
   "metadata": {},
   "outputs": [],
   "source": []
  },
  {
   "cell_type": "code",
   "execution_count": null,
   "id": "2ed2f513",
   "metadata": {},
   "outputs": [],
   "source": []
  },
  {
   "cell_type": "code",
   "execution_count": null,
   "id": "0b22ce02",
   "metadata": {},
   "outputs": [],
   "source": []
  },
  {
   "cell_type": "code",
   "execution_count": null,
   "id": "3e79d92b",
   "metadata": {},
   "outputs": [],
   "source": []
  },
  {
   "cell_type": "code",
   "execution_count": null,
   "id": "d9979d0a",
   "metadata": {},
   "outputs": [],
   "source": []
  },
  {
   "cell_type": "code",
   "execution_count": null,
   "id": "a0e17fed",
   "metadata": {},
   "outputs": [],
   "source": []
  }
 ],
 "metadata": {
  "kernelspec": {
   "display_name": "Python 3 (ipykernel)",
   "language": "python",
   "name": "python3"
  },
  "language_info": {
   "codemirror_mode": {
    "name": "ipython",
    "version": 3
   },
   "file_extension": ".py",
   "mimetype": "text/x-python",
   "name": "python",
   "nbconvert_exporter": "python",
   "pygments_lexer": "ipython3",
   "version": "3.7.13"
  }
 },
 "nbformat": 4,
 "nbformat_minor": 5
}
